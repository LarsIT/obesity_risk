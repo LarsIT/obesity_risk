{
 "cells": [
  {
   "cell_type": "markdown",
   "id": "a919adf8-b0b0-4984-bc51-dc635efea59d",
   "metadata": {},
   "source": [
    "# Lars"
   ]
  },
  {
   "cell_type": "code",
   "id": "760cab59-cffc-4986-9bec-35ab7e60d7f5",
   "metadata": {
    "ExecuteTime": {
     "end_time": "2024-11-03T16:38:37.230708Z",
     "start_time": "2024-11-03T16:38:37.225984Z"
    }
   },
   "source": [
    "import numpy as np\n",
    "import pandas as pd\n",
    "import os\n",
    "import torch\n",
    "from torch import nn\n",
    "from torch.utils.data import DataLoader\n",
    "from torchvision import datasets, transforms\n",
    "from sklearn.model_selection import train_test_split"
   ],
   "outputs": [],
   "execution_count": 72
  },
  {
   "metadata": {
    "ExecuteTime": {
     "end_time": "2024-11-03T16:38:37.263007Z",
     "start_time": "2024-11-03T16:38:37.259552Z"
    }
   },
   "cell_type": "code",
   "source": [
    "device = (\n",
    "    \"cuda\"\n",
    "    if torch.cuda.is_available()\n",
    "    else \"mps\"\n",
    "    if torch.backends.mps.is_available()\n",
    "    else \"cpu\"\n",
    ")\n",
    "print(f\"Using {device} device\")"
   ],
   "id": "37efcb05ae3e02b0",
   "outputs": [
    {
     "name": "stdout",
     "output_type": "stream",
     "text": [
      "Using cpu device\n"
     ]
    }
   ],
   "execution_count": 73
  },
  {
   "metadata": {
    "ExecuteTime": {
     "end_time": "2024-11-03T16:38:37.317049Z",
     "start_time": "2024-11-03T16:38:37.313236Z"
    }
   },
   "cell_type": "code",
   "source": [
    "class NeuralNetwork(nn.Module):\n",
    "    def __init__(self):\n",
    "        super().__init__()\n",
    "        self.flatten = nn.Flatten()\n",
    "        self.linear_relu_stack = nn.Sequential(\n",
    "            nn.Linear(30, 30),\n",
    "            nn.ReLU(),\n",
    "            nn.Linear(30, 7),\n",
    "        )\n",
    "\n",
    "    def forward(self, x):\n",
    "        x = self.flatten(x)\n",
    "        logits = self.linear_relu_stack(x)\n",
    "        return logits"
   ],
   "id": "5237adca536b35da",
   "outputs": [],
   "execution_count": 74
  },
  {
   "metadata": {
    "ExecuteTime": {
     "end_time": "2024-11-03T16:38:37.382055Z",
     "start_time": "2024-11-03T16:38:37.378306Z"
    }
   },
   "cell_type": "code",
   "source": [
    "model = NeuralNetwork().to(device)\n",
    "print(model)"
   ],
   "id": "be08292bb3c69a09",
   "outputs": [
    {
     "name": "stdout",
     "output_type": "stream",
     "text": [
      "NeuralNetwork(\n",
      "  (flatten): Flatten(start_dim=1, end_dim=-1)\n",
      "  (linear_relu_stack): Sequential(\n",
      "    (0): Linear(in_features=30, out_features=30, bias=True)\n",
      "    (1): ReLU()\n",
      "    (2): Linear(in_features=30, out_features=7, bias=True)\n",
      "  )\n",
      ")\n"
     ]
    }
   ],
   "execution_count": 75
  },
  {
   "metadata": {},
   "cell_type": "markdown",
   "source": "## Daten",
   "id": "bf8d9bf513d4ce36"
  },
  {
   "metadata": {
    "ExecuteTime": {
     "end_time": "2024-11-03T16:38:37.517947Z",
     "start_time": "2024-11-03T16:38:37.481151Z"
    }
   },
   "cell_type": "code",
   "source": "df = pd.read_csv(\"data/train.csv\")",
   "id": "b4cbda872a171ff2",
   "outputs": [],
   "execution_count": 76
  },
  {
   "metadata": {
    "ExecuteTime": {
     "end_time": "2024-11-03T16:38:37.551207Z",
     "start_time": "2024-11-03T16:38:37.538742Z"
    }
   },
   "cell_type": "code",
   "source": "df",
   "id": "81b4236df4d94a27",
   "outputs": [
    {
     "data": {
      "text/plain": [
       "          id  Gender        Age    Height      Weight  \\\n",
       "0          0    Male  24.443011  1.699998   81.669950   \n",
       "1          1  Female  18.000000  1.560000   57.000000   \n",
       "2          2  Female  18.000000  1.711460   50.165754   \n",
       "3          3  Female  20.952737  1.710730  131.274851   \n",
       "4          4    Male  31.641081  1.914186   93.798055   \n",
       "...      ...     ...        ...       ...         ...   \n",
       "20753  20753    Male  25.137087  1.766626  114.187096   \n",
       "20754  20754    Male  18.000000  1.710000   50.000000   \n",
       "20755  20755    Male  20.101026  1.819557  105.580491   \n",
       "20756  20756    Male  33.852953  1.700000   83.520113   \n",
       "20757  20757    Male  26.680376  1.816547  118.134898   \n",
       "\n",
       "      family_history_with_overweight FAVC      FCVC       NCP        CAEC  \\\n",
       "0                                yes  yes  2.000000  2.983297   Sometimes   \n",
       "1                                yes  yes  2.000000  3.000000  Frequently   \n",
       "2                                yes  yes  1.880534  1.411685   Sometimes   \n",
       "3                                yes  yes  3.000000  3.000000   Sometimes   \n",
       "4                                yes  yes  2.679664  1.971472   Sometimes   \n",
       "...                              ...  ...       ...       ...         ...   \n",
       "20753                            yes  yes  2.919584  3.000000   Sometimes   \n",
       "20754                             no  yes  3.000000  4.000000  Frequently   \n",
       "20755                            yes  yes  2.407817  3.000000   Sometimes   \n",
       "20756                            yes  yes  2.671238  1.971472   Sometimes   \n",
       "20757                            yes  yes  3.000000  3.000000   Sometimes   \n",
       "\n",
       "      SMOKE      CH2O SCC       FAF       TUE       CALC  \\\n",
       "0        no  2.763573  no  0.000000  0.976473  Sometimes   \n",
       "1        no  2.000000  no  1.000000  1.000000         no   \n",
       "2        no  1.910378  no  0.866045  1.673584         no   \n",
       "3        no  1.674061  no  1.467863  0.780199  Sometimes   \n",
       "4        no  1.979848  no  1.967973  0.931721  Sometimes   \n",
       "...     ...       ...  ..       ...       ...        ...   \n",
       "20753    no  2.151809  no  1.330519  0.196680  Sometimes   \n",
       "20754    no  1.000000  no  2.000000  1.000000  Sometimes   \n",
       "20755    no  2.000000  no  1.158040  1.198439         no   \n",
       "20756    no  2.144838  no  0.000000  0.973834         no   \n",
       "20757    no  2.003563  no  0.684487  0.713823  Sometimes   \n",
       "\n",
       "                      MTRANS           NObeyesdad  \n",
       "0      Public_Transportation  Overweight_Level_II  \n",
       "1                 Automobile        Normal_Weight  \n",
       "2      Public_Transportation  Insufficient_Weight  \n",
       "3      Public_Transportation     Obesity_Type_III  \n",
       "4      Public_Transportation  Overweight_Level_II  \n",
       "...                      ...                  ...  \n",
       "20753  Public_Transportation      Obesity_Type_II  \n",
       "20754  Public_Transportation  Insufficient_Weight  \n",
       "20755  Public_Transportation      Obesity_Type_II  \n",
       "20756             Automobile  Overweight_Level_II  \n",
       "20757  Public_Transportation      Obesity_Type_II  \n",
       "\n",
       "[20758 rows x 18 columns]"
      ],
      "text/html": [
       "<div>\n",
       "<style scoped>\n",
       "    .dataframe tbody tr th:only-of-type {\n",
       "        vertical-align: middle;\n",
       "    }\n",
       "\n",
       "    .dataframe tbody tr th {\n",
       "        vertical-align: top;\n",
       "    }\n",
       "\n",
       "    .dataframe thead th {\n",
       "        text-align: right;\n",
       "    }\n",
       "</style>\n",
       "<table border=\"1\" class=\"dataframe\">\n",
       "  <thead>\n",
       "    <tr style=\"text-align: right;\">\n",
       "      <th></th>\n",
       "      <th>id</th>\n",
       "      <th>Gender</th>\n",
       "      <th>Age</th>\n",
       "      <th>Height</th>\n",
       "      <th>Weight</th>\n",
       "      <th>family_history_with_overweight</th>\n",
       "      <th>FAVC</th>\n",
       "      <th>FCVC</th>\n",
       "      <th>NCP</th>\n",
       "      <th>CAEC</th>\n",
       "      <th>SMOKE</th>\n",
       "      <th>CH2O</th>\n",
       "      <th>SCC</th>\n",
       "      <th>FAF</th>\n",
       "      <th>TUE</th>\n",
       "      <th>CALC</th>\n",
       "      <th>MTRANS</th>\n",
       "      <th>NObeyesdad</th>\n",
       "    </tr>\n",
       "  </thead>\n",
       "  <tbody>\n",
       "    <tr>\n",
       "      <th>0</th>\n",
       "      <td>0</td>\n",
       "      <td>Male</td>\n",
       "      <td>24.443011</td>\n",
       "      <td>1.699998</td>\n",
       "      <td>81.669950</td>\n",
       "      <td>yes</td>\n",
       "      <td>yes</td>\n",
       "      <td>2.000000</td>\n",
       "      <td>2.983297</td>\n",
       "      <td>Sometimes</td>\n",
       "      <td>no</td>\n",
       "      <td>2.763573</td>\n",
       "      <td>no</td>\n",
       "      <td>0.000000</td>\n",
       "      <td>0.976473</td>\n",
       "      <td>Sometimes</td>\n",
       "      <td>Public_Transportation</td>\n",
       "      <td>Overweight_Level_II</td>\n",
       "    </tr>\n",
       "    <tr>\n",
       "      <th>1</th>\n",
       "      <td>1</td>\n",
       "      <td>Female</td>\n",
       "      <td>18.000000</td>\n",
       "      <td>1.560000</td>\n",
       "      <td>57.000000</td>\n",
       "      <td>yes</td>\n",
       "      <td>yes</td>\n",
       "      <td>2.000000</td>\n",
       "      <td>3.000000</td>\n",
       "      <td>Frequently</td>\n",
       "      <td>no</td>\n",
       "      <td>2.000000</td>\n",
       "      <td>no</td>\n",
       "      <td>1.000000</td>\n",
       "      <td>1.000000</td>\n",
       "      <td>no</td>\n",
       "      <td>Automobile</td>\n",
       "      <td>Normal_Weight</td>\n",
       "    </tr>\n",
       "    <tr>\n",
       "      <th>2</th>\n",
       "      <td>2</td>\n",
       "      <td>Female</td>\n",
       "      <td>18.000000</td>\n",
       "      <td>1.711460</td>\n",
       "      <td>50.165754</td>\n",
       "      <td>yes</td>\n",
       "      <td>yes</td>\n",
       "      <td>1.880534</td>\n",
       "      <td>1.411685</td>\n",
       "      <td>Sometimes</td>\n",
       "      <td>no</td>\n",
       "      <td>1.910378</td>\n",
       "      <td>no</td>\n",
       "      <td>0.866045</td>\n",
       "      <td>1.673584</td>\n",
       "      <td>no</td>\n",
       "      <td>Public_Transportation</td>\n",
       "      <td>Insufficient_Weight</td>\n",
       "    </tr>\n",
       "    <tr>\n",
       "      <th>3</th>\n",
       "      <td>3</td>\n",
       "      <td>Female</td>\n",
       "      <td>20.952737</td>\n",
       "      <td>1.710730</td>\n",
       "      <td>131.274851</td>\n",
       "      <td>yes</td>\n",
       "      <td>yes</td>\n",
       "      <td>3.000000</td>\n",
       "      <td>3.000000</td>\n",
       "      <td>Sometimes</td>\n",
       "      <td>no</td>\n",
       "      <td>1.674061</td>\n",
       "      <td>no</td>\n",
       "      <td>1.467863</td>\n",
       "      <td>0.780199</td>\n",
       "      <td>Sometimes</td>\n",
       "      <td>Public_Transportation</td>\n",
       "      <td>Obesity_Type_III</td>\n",
       "    </tr>\n",
       "    <tr>\n",
       "      <th>4</th>\n",
       "      <td>4</td>\n",
       "      <td>Male</td>\n",
       "      <td>31.641081</td>\n",
       "      <td>1.914186</td>\n",
       "      <td>93.798055</td>\n",
       "      <td>yes</td>\n",
       "      <td>yes</td>\n",
       "      <td>2.679664</td>\n",
       "      <td>1.971472</td>\n",
       "      <td>Sometimes</td>\n",
       "      <td>no</td>\n",
       "      <td>1.979848</td>\n",
       "      <td>no</td>\n",
       "      <td>1.967973</td>\n",
       "      <td>0.931721</td>\n",
       "      <td>Sometimes</td>\n",
       "      <td>Public_Transportation</td>\n",
       "      <td>Overweight_Level_II</td>\n",
       "    </tr>\n",
       "    <tr>\n",
       "      <th>...</th>\n",
       "      <td>...</td>\n",
       "      <td>...</td>\n",
       "      <td>...</td>\n",
       "      <td>...</td>\n",
       "      <td>...</td>\n",
       "      <td>...</td>\n",
       "      <td>...</td>\n",
       "      <td>...</td>\n",
       "      <td>...</td>\n",
       "      <td>...</td>\n",
       "      <td>...</td>\n",
       "      <td>...</td>\n",
       "      <td>...</td>\n",
       "      <td>...</td>\n",
       "      <td>...</td>\n",
       "      <td>...</td>\n",
       "      <td>...</td>\n",
       "      <td>...</td>\n",
       "    </tr>\n",
       "    <tr>\n",
       "      <th>20753</th>\n",
       "      <td>20753</td>\n",
       "      <td>Male</td>\n",
       "      <td>25.137087</td>\n",
       "      <td>1.766626</td>\n",
       "      <td>114.187096</td>\n",
       "      <td>yes</td>\n",
       "      <td>yes</td>\n",
       "      <td>2.919584</td>\n",
       "      <td>3.000000</td>\n",
       "      <td>Sometimes</td>\n",
       "      <td>no</td>\n",
       "      <td>2.151809</td>\n",
       "      <td>no</td>\n",
       "      <td>1.330519</td>\n",
       "      <td>0.196680</td>\n",
       "      <td>Sometimes</td>\n",
       "      <td>Public_Transportation</td>\n",
       "      <td>Obesity_Type_II</td>\n",
       "    </tr>\n",
       "    <tr>\n",
       "      <th>20754</th>\n",
       "      <td>20754</td>\n",
       "      <td>Male</td>\n",
       "      <td>18.000000</td>\n",
       "      <td>1.710000</td>\n",
       "      <td>50.000000</td>\n",
       "      <td>no</td>\n",
       "      <td>yes</td>\n",
       "      <td>3.000000</td>\n",
       "      <td>4.000000</td>\n",
       "      <td>Frequently</td>\n",
       "      <td>no</td>\n",
       "      <td>1.000000</td>\n",
       "      <td>no</td>\n",
       "      <td>2.000000</td>\n",
       "      <td>1.000000</td>\n",
       "      <td>Sometimes</td>\n",
       "      <td>Public_Transportation</td>\n",
       "      <td>Insufficient_Weight</td>\n",
       "    </tr>\n",
       "    <tr>\n",
       "      <th>20755</th>\n",
       "      <td>20755</td>\n",
       "      <td>Male</td>\n",
       "      <td>20.101026</td>\n",
       "      <td>1.819557</td>\n",
       "      <td>105.580491</td>\n",
       "      <td>yes</td>\n",
       "      <td>yes</td>\n",
       "      <td>2.407817</td>\n",
       "      <td>3.000000</td>\n",
       "      <td>Sometimes</td>\n",
       "      <td>no</td>\n",
       "      <td>2.000000</td>\n",
       "      <td>no</td>\n",
       "      <td>1.158040</td>\n",
       "      <td>1.198439</td>\n",
       "      <td>no</td>\n",
       "      <td>Public_Transportation</td>\n",
       "      <td>Obesity_Type_II</td>\n",
       "    </tr>\n",
       "    <tr>\n",
       "      <th>20756</th>\n",
       "      <td>20756</td>\n",
       "      <td>Male</td>\n",
       "      <td>33.852953</td>\n",
       "      <td>1.700000</td>\n",
       "      <td>83.520113</td>\n",
       "      <td>yes</td>\n",
       "      <td>yes</td>\n",
       "      <td>2.671238</td>\n",
       "      <td>1.971472</td>\n",
       "      <td>Sometimes</td>\n",
       "      <td>no</td>\n",
       "      <td>2.144838</td>\n",
       "      <td>no</td>\n",
       "      <td>0.000000</td>\n",
       "      <td>0.973834</td>\n",
       "      <td>no</td>\n",
       "      <td>Automobile</td>\n",
       "      <td>Overweight_Level_II</td>\n",
       "    </tr>\n",
       "    <tr>\n",
       "      <th>20757</th>\n",
       "      <td>20757</td>\n",
       "      <td>Male</td>\n",
       "      <td>26.680376</td>\n",
       "      <td>1.816547</td>\n",
       "      <td>118.134898</td>\n",
       "      <td>yes</td>\n",
       "      <td>yes</td>\n",
       "      <td>3.000000</td>\n",
       "      <td>3.000000</td>\n",
       "      <td>Sometimes</td>\n",
       "      <td>no</td>\n",
       "      <td>2.003563</td>\n",
       "      <td>no</td>\n",
       "      <td>0.684487</td>\n",
       "      <td>0.713823</td>\n",
       "      <td>Sometimes</td>\n",
       "      <td>Public_Transportation</td>\n",
       "      <td>Obesity_Type_II</td>\n",
       "    </tr>\n",
       "  </tbody>\n",
       "</table>\n",
       "<p>20758 rows × 18 columns</p>\n",
       "</div>"
      ]
     },
     "execution_count": 77,
     "metadata": {},
     "output_type": "execute_result"
    }
   ],
   "execution_count": 77
  },
  {
   "metadata": {
    "ExecuteTime": {
     "end_time": "2024-11-03T16:38:37.649206Z",
     "start_time": "2024-11-03T16:38:37.630373Z"
    }
   },
   "cell_type": "code",
   "source": "df_ohe = pd.get_dummies(df[df.columns.values[:-1]]) # OHE without target column",
   "id": "cc8968391225a8d7",
   "outputs": [],
   "execution_count": 78
  },
  {
   "metadata": {
    "ExecuteTime": {
     "end_time": "2024-11-03T16:38:37.678609Z",
     "start_time": "2024-11-03T16:38:37.673651Z"
    }
   },
   "cell_type": "code",
   "source": "df_ohe = df_ohe.join(df[\"NObeyesdad\"], how=\"left\")",
   "id": "13b479e2fee834e7",
   "outputs": [],
   "execution_count": 79
  },
  {
   "metadata": {
    "ExecuteTime": {
     "end_time": "2024-11-03T16:38:37.742949Z",
     "start_time": "2024-11-03T16:38:37.738825Z"
    }
   },
   "cell_type": "code",
   "source": [
    "# Encode target\n",
    "class_vals = sorted(df_ohe[\"NObeyesdad\"].unique())\n",
    "class_to_label = {cls: idx for idx, cls in enumerate(class_vals)}"
   ],
   "id": "7e51eff9d4649051",
   "outputs": [],
   "execution_count": 80
  },
  {
   "metadata": {
    "ExecuteTime": {
     "end_time": "2024-11-03T16:38:37.808772Z",
     "start_time": "2024-11-03T16:38:37.797606Z"
    }
   },
   "cell_type": "code",
   "source": [
    "X = torch.tensor(df_ohe.drop(columns=[\"NObeyesdad\", \"id\"]).astype(float).values\n",
    ", dtype=torch.float)\n",
    "y = torch.tensor([class_to_label[class_] for class_ in df_ohe[\"NObeyesdad\"]], dtype=torch.float)"
   ],
   "id": "9fa1b99cd3d327d5",
   "outputs": [],
   "execution_count": 81
  },
  {
   "metadata": {
    "ExecuteTime": {
     "end_time": "2024-11-03T16:38:37.874840Z",
     "start_time": "2024-11-03T16:38:37.871292Z"
    }
   },
   "cell_type": "code",
   "source": "print(X.shape, y.shape)",
   "id": "969f0a600922976c",
   "outputs": [
    {
     "name": "stdout",
     "output_type": "stream",
     "text": [
      "torch.Size([20758, 30]) torch.Size([20758])\n"
     ]
    }
   ],
   "execution_count": 82
  },
  {
   "metadata": {
    "ExecuteTime": {
     "end_time": "2024-11-03T16:38:38.041186Z",
     "start_time": "2024-11-03T16:38:38.032767Z"
    }
   },
   "cell_type": "code",
   "source": [
    "X_train, X_test, y_train, y_test = train_test_split(X, \n",
    "                                                    y, \n",
    "                                                    test_size=0.2, # 20% test, 80% train\n",
    "                                                    random_state=42) # make the random split reproducible\n"
   ],
   "id": "6302fdabff8a5896",
   "outputs": [],
   "execution_count": 83
  },
  {
   "metadata": {},
   "cell_type": "markdown",
   "source": "### Untrained Predictions",
   "id": "51828ba5bfed4f0e"
  },
  {
   "metadata": {
    "ExecuteTime": {
     "end_time": "2024-11-03T16:38:38.122699Z",
     "start_time": "2024-11-03T16:38:38.119099Z"
    }
   },
   "cell_type": "code",
   "source": "X_test.shape",
   "id": "b8c1b1f7c72e966a",
   "outputs": [
    {
     "data": {
      "text/plain": [
       "torch.Size([4152, 30])"
      ]
     },
     "execution_count": 84,
     "metadata": {},
     "output_type": "execute_result"
    }
   ],
   "execution_count": 84
  },
  {
   "metadata": {
    "ExecuteTime": {
     "end_time": "2024-11-03T16:38:38.316206Z",
     "start_time": "2024-11-03T16:38:38.307298Z"
    }
   },
   "cell_type": "code",
   "source": "model(X_test.to(device))",
   "id": "be417486819f0f48",
   "outputs": [
    {
     "data": {
      "text/plain": [
       "tensor([[-6.5511, -3.4616, -3.3184,  ..., -1.7497, -2.4608, -0.8775],\n",
       "        [-4.4415, -2.3455, -2.0968,  ..., -1.2467, -1.5368, -0.7757],\n",
       "        [-4.8261, -2.4303, -2.3638,  ..., -1.4630, -1.9263, -1.1589],\n",
       "        ...,\n",
       "        [-4.5780, -2.4747, -2.2483,  ..., -1.2041, -1.9235, -1.0877],\n",
       "        [-4.9274, -2.4795, -2.4625,  ..., -1.4855, -2.1456, -1.6364],\n",
       "        [-4.5717, -2.3628, -2.1972,  ..., -1.2661, -1.6509, -0.8316]],\n",
       "       grad_fn=<AddmmBackward0>)"
      ]
     },
     "execution_count": 85,
     "metadata": {},
     "output_type": "execute_result"
    }
   ],
   "execution_count": 85
  },
  {
   "metadata": {},
   "cell_type": "markdown",
   "source": "## Training auf Daten",
   "id": "d24e70cb9270f996"
  },
  {
   "metadata": {},
   "cell_type": "markdown",
   "source": "### Loss und Optimizer",
   "id": "3444a2a87ef71908"
  },
  {
   "metadata": {
    "ExecuteTime": {
     "end_time": "2024-11-03T16:38:38.523136Z",
     "start_time": "2024-11-03T16:38:38.520823Z"
    }
   },
   "cell_type": "code",
   "source": "loss_fn = nn.CrossEntropyLoss()",
   "id": "543fe2777bff9012",
   "outputs": [],
   "execution_count": 86
  },
  {
   "metadata": {
    "ExecuteTime": {
     "end_time": "2024-11-03T16:38:38.565158Z",
     "start_time": "2024-11-03T16:38:38.562133Z"
    }
   },
   "cell_type": "code",
   "source": [
    "optimizer = torch.optim.SGD(params=model.parameters(), \n",
    "                            lr=0.1)"
   ],
   "id": "925396d9bfbd3999",
   "outputs": [],
   "execution_count": 87
  },
  {
   "metadata": {
    "ExecuteTime": {
     "end_time": "2024-11-03T16:38:38.611574Z",
     "start_time": "2024-11-03T16:38:38.608146Z"
    }
   },
   "cell_type": "code",
   "source": [
    "def accuracy_fn(y_true, y_pred):\n",
    "    correct = torch.eq(y_true, y_pred).sum().item() # torch.eq() calculates where two tensors are equal\n",
    "    acc = (correct / len(y_pred)) * 100 \n",
    "    return acc"
   ],
   "id": "3d1cac059cc83644",
   "outputs": [],
   "execution_count": 88
  },
  {
   "metadata": {},
   "cell_type": "markdown",
   "source": "### Training",
   "id": "23de3cf5d2fc09fa"
  },
  {
   "metadata": {
    "ExecuteTime": {
     "end_time": "2024-11-03T16:38:38.693010Z",
     "start_time": "2024-11-03T16:38:38.687429Z"
    }
   },
   "cell_type": "code",
   "source": [
    "y_logits = model(X_train.to(device))[:1]\n",
    "y_logits"
   ],
   "id": "b3c07faddcb45a6b",
   "outputs": [
    {
     "data": {
      "text/plain": [
       "tensor([[-5.5310, -2.9015, -2.7354, -6.3878, -1.3955, -1.7333, -0.5911]],\n",
       "       grad_fn=<SliceBackward0>)"
      ]
     },
     "execution_count": 89,
     "metadata": {},
     "output_type": "execute_result"
    }
   ],
   "execution_count": 89
  },
  {
   "metadata": {
    "ExecuteTime": {
     "end_time": "2024-11-03T16:38:38.915413Z",
     "start_time": "2024-11-03T16:38:38.911152Z"
    }
   },
   "cell_type": "code",
   "source": [
    "y_pred_prob = torch.sigmoid(y_logits)\n",
    "y_pred_prob"
   ],
   "id": "dfee044892bf1dcc",
   "outputs": [
    {
     "data": {
      "text/plain": [
       "tensor([[0.0039, 0.0521, 0.0609, 0.0017, 0.1985, 0.1502, 0.3564]],\n",
       "       grad_fn=<SigmoidBackward0>)"
      ]
     },
     "execution_count": 90,
     "metadata": {},
     "output_type": "execute_result"
    }
   ],
   "execution_count": 90
  },
  {
   "metadata": {
    "ExecuteTime": {
     "end_time": "2024-11-03T16:38:39.116231Z",
     "start_time": "2024-11-03T16:38:39.112185Z"
    }
   },
   "cell_type": "code",
   "source": [
    "y_pred = torch.round(y_pred_prob)\n",
    "\n",
    "print(y_test[:5])\n",
    "print(y_pred[:5])"
   ],
   "id": "4a853f65f94a21a1",
   "outputs": [
    {
     "name": "stdout",
     "output_type": "stream",
     "text": [
      "tensor([4., 5., 2., 3., 0.])\n",
      "tensor([[0., 0., 0., 0., 0., 0., 0.]], grad_fn=<SliceBackward0>)\n"
     ]
    }
   ],
   "execution_count": 91
  },
  {
   "metadata": {
    "ExecuteTime": {
     "end_time": "2024-11-03T16:38:39.270953Z",
     "start_time": "2024-11-03T16:38:39.265334Z"
    }
   },
   "cell_type": "code",
   "source": "y_logits   ",
   "id": "eeedb1c3a0853121",
   "outputs": [
    {
     "data": {
      "text/plain": [
       "tensor([[-5.5310, -2.9015, -2.7354, -6.3878, -1.3955, -1.7333, -0.5911]],\n",
       "       grad_fn=<SliceBackward0>)"
      ]
     },
     "execution_count": 92,
     "metadata": {},
     "output_type": "execute_result"
    }
   ],
   "execution_count": 92
  },
  {
   "metadata": {
    "ExecuteTime": {
     "end_time": "2024-11-03T16:38:39.519701Z",
     "start_time": "2024-11-03T16:38:39.515910Z"
    }
   },
   "cell_type": "code",
   "source": "y_train",
   "id": "46028ac8794e8067",
   "outputs": [
    {
     "data": {
      "text/plain": [
       "tensor([2., 0., 3.,  ..., 5., 4., 2.])"
      ]
     },
     "execution_count": 93,
     "metadata": {},
     "output_type": "execute_result"
    }
   ],
   "execution_count": 93
  },
  {
   "metadata": {
    "ExecuteTime": {
     "end_time": "2024-11-03T16:38:40.049331Z",
     "start_time": "2024-11-03T16:38:39.665890Z"
    }
   },
   "cell_type": "code",
   "source": [
    "torch.manual_seed(42)\n",
    "\n",
    "# Set the number of epochs\n",
    "epochs = 100\n",
    "\n",
    "# Put data to target device\n",
    "X_train, y_train = X_train.to(device), y_train.to(device).long()\n",
    "X_test, y_test = X_test.to(device), y_test.to(device).long()\n",
    "\n",
    "# Build training and evaluation loop\n",
    "for epoch in range(epochs):\n",
    "    ### Training\n",
    "    model.train()\n",
    "\n",
    "    # 1. Forward pass (model outputs raw logits)\n",
    "    y_logits = model(X_train)  # no need to squeeze\n",
    "    y_pred = torch.argmax(y_logits, dim=1)  # get predicted class\n",
    "\n",
    "    # 2. Calculate loss/accuracy\n",
    "    loss = loss_fn(y_logits, y_train)  # no sigmoid needed for CrossEntropyLoss\n",
    "    acc = accuracy_fn(y_true=y_train, y_pred=y_pred)\n",
    "\n",
    "    # 3. Optimizer zero grad\n",
    "    optimizer.zero_grad()\n",
    "\n",
    "    # 4. Loss backwards\n",
    "    loss.backward()\n",
    "\n",
    "    # 5. Optimizer step\n",
    "    optimizer.step()\n",
    "\n",
    "    ### Testing\n",
    "    model.eval()\n",
    "    with torch.inference_mode():\n",
    "        # 1. Forward pass\n",
    "        test_logits = model(X_test)\n",
    "        test_pred = torch.argmax(test_logits, dim=1)\n",
    "        # 2. Calculate loss/accuracy\n",
    "        test_loss = loss_fn(test_logits, y_test)\n",
    "        test_acc = accuracy_fn(y_true=y_test, y_pred=test_pred)\n",
    "\n",
    "    # Print out what's happening every 10 epochs\n",
    "    if epoch % 10 == 0:\n",
    "        print(f\"Epoch: {epoch} | Loss: {loss:.5f}, Accuracy: {acc:.2f}% | Test loss: {test_loss:.5f}, Test acc: {test_acc:.2f}%\")\n"
   ],
   "id": "96c1db4fbf8109f1",
   "outputs": [
    {
     "name": "stdout",
     "output_type": "stream",
     "text": [
      "Epoch: 0 | Loss: 2.82792, Accuracy: 7.28% | Test loss: 21.97626, Test acc: 15.82%\n",
      "Epoch: 10 | Loss: 1.94914, Accuracy: 14.33% | Test loss: 1.94974, Test acc: 13.13%\n",
      "Epoch: 20 | Loss: 1.93990, Accuracy: 13.27% | Test loss: 2.00784, Test acc: 12.38%\n",
      "Epoch: 30 | Loss: 1.94058, Accuracy: 19.66% | Test loss: 1.94181, Test acc: 19.41%\n",
      "Epoch: 40 | Loss: 1.93783, Accuracy: 19.61% | Test loss: 1.93919, Test acc: 19.39%\n",
      "Epoch: 50 | Loss: 1.93577, Accuracy: 19.60% | Test loss: 1.93723, Test acc: 19.36%\n",
      "Epoch: 60 | Loss: 1.93424, Accuracy: 19.60% | Test loss: 1.93578, Test acc: 19.36%\n",
      "Epoch: 70 | Loss: 1.93310, Accuracy: 19.60% | Test loss: 1.93470, Test acc: 19.36%\n",
      "Epoch: 80 | Loss: 1.93224, Accuracy: 19.60% | Test loss: 1.93391, Test acc: 19.36%\n",
      "Epoch: 90 | Loss: 1.93158, Accuracy: 19.60% | Test loss: 1.93330, Test acc: 19.36%\n"
     ]
    }
   ],
   "execution_count": 94
  }
 ],
 "metadata": {
  "kernelspec": {
   "display_name": "Python 3 (ipykernel)",
   "language": "python",
   "name": "python3"
  },
  "language_info": {
   "codemirror_mode": {
    "name": "ipython",
    "version": 3
   },
   "file_extension": ".py",
   "mimetype": "text/x-python",
   "name": "python",
   "nbconvert_exporter": "python",
   "pygments_lexer": "ipython3",
   "version": "3.10.12"
  }
 },
 "nbformat": 4,
 "nbformat_minor": 5
}
